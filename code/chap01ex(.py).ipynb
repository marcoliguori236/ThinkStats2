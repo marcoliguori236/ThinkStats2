{
 "cells": [
  {
   "cell_type": "code",
   "execution_count": 21,
   "metadata": {},
   "outputs": [
    {
     "name": "stdout",
     "output_type": "stream",
     "text": [
      "chap01ex.py: All tests passed.\n",
      "   caseid  pregordr  howpreg_n  howpreg_p  moscurrp  nowprgdk  pregend1  \\\n",
      "0       1         1        NaN        NaN       NaN       NaN       6.0   \n",
      "1       1         2        NaN        NaN       NaN       NaN       6.0   \n",
      "2       2         1        NaN        NaN       NaN       NaN       5.0   \n",
      "3       2         2        NaN        NaN       NaN       NaN       6.0   \n",
      "4       2         3        NaN        NaN       NaN       NaN       6.0   \n",
      "\n",
      "   pregend2  nbrnaliv  multbrth  ...  laborfor_i  religion_i  metro_i  \\\n",
      "0       NaN       1.0       NaN  ...           0           0        0   \n",
      "1       NaN       1.0       NaN  ...           0           0        0   \n",
      "2       NaN       3.0       5.0  ...           0           0        0   \n",
      "3       NaN       1.0       NaN  ...           0           0        0   \n",
      "4       NaN       1.0       NaN  ...           0           0        0   \n",
      "\n",
      "       basewgt  adj_mod_basewgt      finalwgt  secu_p  sest  cmintvw  \\\n",
      "0  3410.389399      3869.349602   6448.271112       2     9      NaN   \n",
      "1  3410.389399      3869.349602   6448.271112       2     9      NaN   \n",
      "2  7226.301740      8567.549110  12999.542264       2    12      NaN   \n",
      "3  7226.301740      8567.549110  12999.542264       2    12      NaN   \n",
      "4  7226.301740      8567.549110  12999.542264       2    12      NaN   \n",
      "\n",
      "   totalwgt_lb  \n",
      "0       8.8125  \n",
      "1       7.8750  \n",
      "2       9.1250  \n",
      "3       7.0000  \n",
      "4       6.1875  \n",
      "\n",
      "[5 rows x 244 columns]\n",
      "1        2\n",
      "2        3\n",
      "6        3\n",
      "7        2\n",
      "12       1\n",
      "        ..\n",
      "12566    2\n",
      "12568    3\n",
      "12569    2\n",
      "12570    3\n",
      "12571    5\n",
      "Name: caseid, Length: 5033, dtype: int64\n"
     ]
    }
   ],
   "source": [
    "%run chap01ex.py"
   ]
  },
  {
   "cell_type": "code",
   "execution_count": null,
   "metadata": {},
   "outputs": [],
   "source": []
  }
 ],
 "metadata": {
  "kernelspec": {
   "display_name": "Python 3",
   "language": "python",
   "name": "python3"
  },
  "language_info": {
   "codemirror_mode": {
    "name": "ipython",
    "version": 3
   },
   "file_extension": ".py",
   "mimetype": "text/x-python",
   "name": "python",
   "nbconvert_exporter": "python",
   "pygments_lexer": "ipython3",
   "version": "3.8.3"
  }
 },
 "nbformat": 4,
 "nbformat_minor": 4
}
